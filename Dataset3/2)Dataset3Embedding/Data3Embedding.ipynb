{
 "cells": [
  {
   "cell_type": "code",
   "execution_count": 1,
   "metadata": {},
   "outputs": [
    {
     "name": "stderr",
     "output_type": "stream",
     "text": [
      "d:\\python\\Lib\\site-packages\\sentence_transformers\\cross_encoder\\CrossEncoder.py:11: TqdmWarning: IProgress not found. Please update jupyter and ipywidgets. See https://ipywidgets.readthedocs.io/en/stable/user_install.html\n",
      "  from tqdm.autonotebook import tqdm, trange\n"
     ]
    },
    {
     "data": {
      "text/plain": [
       "(13719, 16)"
      ]
     },
     "execution_count": 1,
     "metadata": {},
     "output_type": "execute_result"
    }
   ],
   "source": [
    "import pandas as pd\n",
    "import numpy as np # linear algebra\n",
    "from sentence_transformers import SentenceTransformer\n",
    "# Replace 'path_to_dataset' with the actual path to your dataset file\n",
    "df = pd.read_csv('Dataset33new (1).csv')\n",
    "df.shape"
   ]
  },
  {
   "cell_type": "code",
   "execution_count": 2,
   "metadata": {},
   "outputs": [
    {
     "name": "stderr",
     "output_type": "stream",
     "text": [
      "d:\\python\\Lib\\site-packages\\huggingface_hub\\file_download.py:1132: FutureWarning: `resume_download` is deprecated and will be removed in version 1.0.0. Downloads always resume when possible. If you want to force a new download, use `force_download=True`.\n",
      "  warnings.warn(\n",
      "Batches: 100%|██████████| 429/429 [04:45<00:00,  1.50it/s]\n"
     ]
    }
   ],
   "source": [
    "from sentence_transformers import SentenceTransformer\n",
    "def compile_text(x):\n",
    "    text = f\"\"\"Model: {x['Model']},\n",
    "              Used or New: {x['UsedOrNew']},\n",
    "              Transmission: {x['Transmission']},\n",
    "              Drive Type: {x['DriveType']},\n",
    "              Fuel Type: {x['FuelType']},\n",
    "              Fuel Consumption: {x['FuelConsumption']},\n",
    "              Cylinders in Engine: {x['CylindersinEngine']},\n",
    "              Body Type: {x['BodyType']},\n",
    "              Doors: {x['Doors']},\n",
    "              Seats: {x['Seats']},\n",
    "              Price: {x['Price']},\n",
    "              Year: {x['Year']}\n",
    "          \"\"\"\n",
    "    return text\n",
    "\n",
    "\n",
    "sentences = df.apply(lambda x: compile_text(x), axis=1).tolist()\n",
    "model = SentenceTransformer(r\"sentence-transformers/paraphrase-MiniLM-L6-v2\")\n",
    "#sentence-transformers/paraphrase-mpnet-base-v2\n",
    "output = model.encode(sentences=sentences, show_progress_bar= True, normalize_embeddings  = True)\n",
    "\n",
    "df_embedding = pd.DataFrame(output)\n",
    "df_embedding\n",
    "\n",
    "\n",
    "df_embedding.to_csv(\"embedding_FirstStructureL6.csv\",index = False)"
   ]
  },
  {
   "cell_type": "code",
   "execution_count": 3,
   "metadata": {},
   "outputs": [
    {
     "name": "stdout",
     "output_type": "stream",
     "text": [
      "Model: MG3,\n",
      "              Used or New: USED,\n",
      "              Transmission: Automatic,\n",
      "              Drive Type: Front,\n",
      "              Fuel Type: Premium,\n",
      "              Fuel Consumption: 6.7 L / 100 km,\n",
      "              Cylinders in Engine: 4 cyl,\n",
      "              Body Type: Hatchback,\n",
      "              Doors:  5 Doors,\n",
      "              Seats:  5 Seats,\n",
      "              Price: 19990,\n",
      "              Year: 2022\n",
      "          \n"
     ]
    }
   ],
   "source": [
    "for i in range(1):\n",
    "    print(sentences[i])"
   ]
  },
  {
   "cell_type": "code",
   "execution_count": 4,
   "metadata": {},
   "outputs": [
    {
     "name": "stderr",
     "output_type": "stream",
     "text": [
      "Batches: 100%|██████████| 429/429 [1:32:23<00:00, 12.92s/it]  \n"
     ]
    }
   ],
   "source": [
    "from sentence_transformers import SentenceTransformer\n",
    "def compile_text(x):\n",
    "    text = f\"\"\"Model: {x['Model']},\n",
    "              Used or New: {x['UsedOrNew']},\n",
    "              Transmission: {x['Transmission']},\n",
    "              Drive Type: {x['DriveType']},\n",
    "              Fuel Type: {x['FuelType']},\n",
    "              Fuel Consumption: {x['FuelConsumption']},\n",
    "              Cylinders in Engine: {x['CylindersinEngine']},\n",
    "              Body Type: {x['BodyType']},\n",
    "              Doors: {x['Doors']},\n",
    "              Seats: {x['Seats']},\n",
    "              Price: {x['Price']},\n",
    "              Year: {x['Year']}\n",
    "          \"\"\"\n",
    "    return text\n",
    "\n",
    "\n",
    "sentences = df.apply(lambda x: compile_text(x), axis=1).tolist()\n",
    "model = SentenceTransformer(r\"sentence-transformers/paraphrase-multilingual-MiniLM-L12-v2\")\n",
    "#sentence-transformers/paraphrase-mpnet-base-v2\n",
    "output = model.encode(sentences=sentences, show_progress_bar= True, normalize_embeddings  = True)\n",
    "\n",
    "df_embedding = pd.DataFrame(output)\n",
    "df_embedding\n",
    "\n",
    "\n",
    "df_embedding.to_csv(\"embedding_FirstStructureL12.csv\",index = False)"
   ]
  },
  {
   "cell_type": "code",
   "execution_count": 5,
   "metadata": {},
   "outputs": [
    {
     "name": "stderr",
     "output_type": "stream",
     "text": [
      "Batches: 100%|██████████| 429/429 [06:40<00:00,  1.07it/s]\n"
     ]
    }
   ],
   "source": [
    "def compile_text(x):\n",
    "    text = (f\"The car is a {x['Model']} model. It is {x['UsedOrNew']} and has a {x['Transmission']} transmission. \"\n",
    "            f\"It features a {x['DriveType']} drive type and uses {x['FuelType']} fuel, consuming {x['FuelConsumption']}. \"\n",
    "            f\"The engine has {x['CylindersinEngine']} cylinders. The body type is {x['BodyType']}, with {x['Doors']} doors \"\n",
    "            f\"and {x['Seats']} seats. The price is {x['Price']} and the manufacturing year is {x['Year']}.\")\n",
    "    return text\n",
    "\n",
    "\n",
    "\n",
    "sentences = df.apply(lambda x: compile_text(x), axis=1).tolist()\n",
    "model = SentenceTransformer(r\"sentence-transformers/paraphrase-MiniLM-L6-v2\")\n",
    "#sentence-transformers/paraphrase-mpnet-base-v2\n",
    "output = model.encode(sentences=sentences, show_progress_bar= True, normalize_embeddings  = True)\n",
    "\n",
    "df_embedding = pd.DataFrame(output)\n",
    "df_embedding\n",
    "\n",
    "\n",
    "df_embedding.to_csv(\"embedding_SecondStructureL6.csv\",index = False)"
   ]
  },
  {
   "cell_type": "code",
   "execution_count": 6,
   "metadata": {},
   "outputs": [
    {
     "name": "stdout",
     "output_type": "stream",
     "text": [
      "The car is a MG3 model. It is USED and has a Automatic transmission. It features a Front drive type and uses Premium fuel, consuming 6.7 L / 100 km. The engine has 4 cyl cylinders. The body type is Hatchback, with  5 Doors doors and  5 Seats seats. The price is 19990 and the manufacturing year is 2022.\n"
     ]
    }
   ],
   "source": [
    "for i in range(1):\n",
    "    print(sentences[i])"
   ]
  },
  {
   "cell_type": "code",
   "execution_count": 7,
   "metadata": {},
   "outputs": [
    {
     "name": "stderr",
     "output_type": "stream",
     "text": [
      "Batches: 100%|██████████| 429/429 [06:29<00:00,  1.10it/s]\n"
     ]
    }
   ],
   "source": [
    "def compile_text(x):\n",
    "    text = (f\"The car is a {x['Model']} model. It is {x['UsedOrNew']} and has a {x['Transmission']} transmission. \"\n",
    "            f\"It features a {x['DriveType']} drive type and uses {x['FuelType']} fuel, consuming {x['FuelConsumption']}. \"\n",
    "            f\"The engine has {x['CylindersinEngine']} cylinders. The body type is {x['BodyType']}, with {x['Doors']} doors \"\n",
    "            f\"and {x['Seats']} seats. The price is {x['Price']} and the manufacturing year is {x['Year']}.\")\n",
    "    return text\n",
    "\n",
    "\n",
    "\n",
    "sentences = df.apply(lambda x: compile_text(x), axis=1).tolist()\n",
    "model = SentenceTransformer(r\"sentence-transformers/paraphrase-multilingual-MiniLM-L12-v2\")\n",
    "#sentence-transformers/paraphrase-mpnet-base-v2\n",
    "output = model.encode(sentences=sentences, show_progress_bar= True, normalize_embeddings  = True)\n",
    "\n",
    "df_embedding = pd.DataFrame(output)\n",
    "df_embedding\n",
    "\n",
    "\n",
    "df_embedding.to_csv(\"embedding_SecondStructureL12.csv\",index = False)"
   ]
  },
  {
   "cell_type": "code",
   "execution_count": null,
   "metadata": {},
   "outputs": [],
   "source": []
  },
  {
   "cell_type": "code",
   "execution_count": 8,
   "metadata": {},
   "outputs": [
    {
     "name": "stderr",
     "output_type": "stream",
     "text": [
      "Batches: 100%|██████████| 429/429 [1:41:17<00:00, 14.17s/it]\n"
     ]
    }
   ],
   "source": [
    "from sentence_transformers import SentenceTransformer\n",
    "def compile_text(x):\n",
    "    text = f\"\"\"Model: {x['Model']},\n",
    "              Used or New: {x['UsedOrNew']},\n",
    "              Transmission: {x['Transmission']},\n",
    "              Drive Type: {x['DriveType']},\n",
    "              Fuel Type: {x['FuelType']},\n",
    "              Fuel Consumption: {x['FuelConsumption']},\n",
    "              Cylinders in Engine: {x['CylindersinEngine']},\n",
    "              Body Type: {x['BodyType']},\n",
    "              Doors: {x['Doors']},\n",
    "              Seats: {x['Seats']},\n",
    "              Price: {x['Price']},\n",
    "              Year: {x['Year']}\n",
    "          \"\"\"\n",
    "    return text\n",
    "\n",
    "\n",
    "sentences = df.apply(lambda x: compile_text(x), axis=1).tolist()\n",
    "model = SentenceTransformer(r\"sentence-transformers/all-mpnet-base-v2\")\n",
    "#sentence-transformers/paraphrase-mpnet-base-v2\n",
    "output = model.encode(sentences=sentences, show_progress_bar= True, normalize_embeddings  = True)\n",
    "\n",
    "df_embedding = pd.DataFrame(output)\n",
    "df_embedding\n",
    "\n",
    "\n",
    "df_embedding.to_csv(\"embedding_MPNETFirstStructureMPNET.csv\",index = False)"
   ]
  },
  {
   "cell_type": "code",
   "execution_count": 9,
   "metadata": {},
   "outputs": [
    {
     "name": "stderr",
     "output_type": "stream",
     "text": [
      "Batches: 100%|██████████| 429/429 [59:10<00:00,  8.28s/it]  \n"
     ]
    }
   ],
   "source": [
    "from sentence_transformers import SentenceTransformer\n",
    "def compile_text(x):\n",
    "    text = (f\"The car is a {x['Model']} model. It is {x['UsedOrNew']} and has a {x['Transmission']} transmission. \"\n",
    "            f\"It features a {x['DriveType']} drive type and uses {x['FuelType']} fuel, consuming {x['FuelConsumption']}. \"\n",
    "            f\"The engine has {x['CylindersinEngine']} cylinders. The body type is {x['BodyType']}, with {x['Doors']} doors \"\n",
    "            f\"and {x['Seats']} seats. The price is {x['Price']} and the manufacturing year is {x['Year']}.\")\n",
    "    return text\n",
    "\n",
    "\n",
    "sentences = df.apply(lambda x: compile_text(x), axis=1).tolist()\n",
    "model = SentenceTransformer(r\"sentence-transformers/all-mpnet-base-v2\")\n",
    "#sentence-transformers/paraphrase-mpnet-base-v2\n",
    "output = model.encode(sentences=sentences, show_progress_bar= True, normalize_embeddings  = True)\n",
    "\n",
    "df_embedding = pd.DataFrame(output)\n",
    "df_embedding\n",
    "\n",
    "\n",
    "df_embedding.to_csv(\"embedding_MPNETSecondStructure.csv\",index = False)"
   ]
  },
  {
   "cell_type": "code",
   "execution_count": 10,
   "metadata": {},
   "outputs": [
    {
     "ename": "FileNotFoundError",
     "evalue": "[Errno 2] No such file or directory: 'embedding_trainmpnetdataset1.csv'",
     "output_type": "error",
     "traceback": [
      "\u001b[1;31m---------------------------------------------------------------------------\u001b[0m",
      "\u001b[1;31mFileNotFoundError\u001b[0m                         Traceback (most recent call last)",
      "Cell \u001b[1;32mIn[10], line 5\u001b[0m\n\u001b[0;32m      2\u001b[0m \u001b[38;5;28;01mimport\u001b[39;00m \u001b[38;5;21;01mnumpy\u001b[39;00m \u001b[38;5;28;01mas\u001b[39;00m \u001b[38;5;21;01mnp\u001b[39;00m \u001b[38;5;66;03m# linear algebra\u001b[39;00m\n\u001b[0;32m      4\u001b[0m \u001b[38;5;66;03m# Replace 'path_to_dataset' with the actual path to your dataset file\u001b[39;00m\n\u001b[1;32m----> 5\u001b[0m df \u001b[38;5;241m=\u001b[39m \u001b[43mpd\u001b[49m\u001b[38;5;241;43m.\u001b[39;49m\u001b[43mread_csv\u001b[49m\u001b[43m(\u001b[49m\u001b[38;5;124;43m'\u001b[39;49m\u001b[38;5;124;43membedding_trainmpnetdataset1.csv\u001b[39;49m\u001b[38;5;124;43m'\u001b[39;49m\u001b[43m)\u001b[49m\n\u001b[0;32m      6\u001b[0m df_embedding \u001b[38;5;241m=\u001b[39m df\n\u001b[0;32m      8\u001b[0m \u001b[38;5;28;01mfrom\u001b[39;00m \u001b[38;5;21;01msklearn\u001b[39;00m\u001b[38;5;21;01m.\u001b[39;00m\u001b[38;5;21;01mpreprocessing\u001b[39;00m \u001b[38;5;28;01mimport\u001b[39;00m LabelEncoder\n",
      "File \u001b[1;32md:\\python\\Lib\\site-packages\\pandas\\io\\parsers\\readers.py:1026\u001b[0m, in \u001b[0;36mread_csv\u001b[1;34m(filepath_or_buffer, sep, delimiter, header, names, index_col, usecols, dtype, engine, converters, true_values, false_values, skipinitialspace, skiprows, skipfooter, nrows, na_values, keep_default_na, na_filter, verbose, skip_blank_lines, parse_dates, infer_datetime_format, keep_date_col, date_parser, date_format, dayfirst, cache_dates, iterator, chunksize, compression, thousands, decimal, lineterminator, quotechar, quoting, doublequote, escapechar, comment, encoding, encoding_errors, dialect, on_bad_lines, delim_whitespace, low_memory, memory_map, float_precision, storage_options, dtype_backend)\u001b[0m\n\u001b[0;32m   1013\u001b[0m kwds_defaults \u001b[38;5;241m=\u001b[39m _refine_defaults_read(\n\u001b[0;32m   1014\u001b[0m     dialect,\n\u001b[0;32m   1015\u001b[0m     delimiter,\n\u001b[1;32m   (...)\u001b[0m\n\u001b[0;32m   1022\u001b[0m     dtype_backend\u001b[38;5;241m=\u001b[39mdtype_backend,\n\u001b[0;32m   1023\u001b[0m )\n\u001b[0;32m   1024\u001b[0m kwds\u001b[38;5;241m.\u001b[39mupdate(kwds_defaults)\n\u001b[1;32m-> 1026\u001b[0m \u001b[38;5;28;01mreturn\u001b[39;00m \u001b[43m_read\u001b[49m\u001b[43m(\u001b[49m\u001b[43mfilepath_or_buffer\u001b[49m\u001b[43m,\u001b[49m\u001b[43m \u001b[49m\u001b[43mkwds\u001b[49m\u001b[43m)\u001b[49m\n",
      "File \u001b[1;32md:\\python\\Lib\\site-packages\\pandas\\io\\parsers\\readers.py:620\u001b[0m, in \u001b[0;36m_read\u001b[1;34m(filepath_or_buffer, kwds)\u001b[0m\n\u001b[0;32m    617\u001b[0m _validate_names(kwds\u001b[38;5;241m.\u001b[39mget(\u001b[38;5;124m\"\u001b[39m\u001b[38;5;124mnames\u001b[39m\u001b[38;5;124m\"\u001b[39m, \u001b[38;5;28;01mNone\u001b[39;00m))\n\u001b[0;32m    619\u001b[0m \u001b[38;5;66;03m# Create the parser.\u001b[39;00m\n\u001b[1;32m--> 620\u001b[0m parser \u001b[38;5;241m=\u001b[39m \u001b[43mTextFileReader\u001b[49m\u001b[43m(\u001b[49m\u001b[43mfilepath_or_buffer\u001b[49m\u001b[43m,\u001b[49m\u001b[43m \u001b[49m\u001b[38;5;241;43m*\u001b[39;49m\u001b[38;5;241;43m*\u001b[39;49m\u001b[43mkwds\u001b[49m\u001b[43m)\u001b[49m\n\u001b[0;32m    622\u001b[0m \u001b[38;5;28;01mif\u001b[39;00m chunksize \u001b[38;5;129;01mor\u001b[39;00m iterator:\n\u001b[0;32m    623\u001b[0m     \u001b[38;5;28;01mreturn\u001b[39;00m parser\n",
      "File \u001b[1;32md:\\python\\Lib\\site-packages\\pandas\\io\\parsers\\readers.py:1620\u001b[0m, in \u001b[0;36mTextFileReader.__init__\u001b[1;34m(self, f, engine, **kwds)\u001b[0m\n\u001b[0;32m   1617\u001b[0m     \u001b[38;5;28mself\u001b[39m\u001b[38;5;241m.\u001b[39moptions[\u001b[38;5;124m\"\u001b[39m\u001b[38;5;124mhas_index_names\u001b[39m\u001b[38;5;124m\"\u001b[39m] \u001b[38;5;241m=\u001b[39m kwds[\u001b[38;5;124m\"\u001b[39m\u001b[38;5;124mhas_index_names\u001b[39m\u001b[38;5;124m\"\u001b[39m]\n\u001b[0;32m   1619\u001b[0m \u001b[38;5;28mself\u001b[39m\u001b[38;5;241m.\u001b[39mhandles: IOHandles \u001b[38;5;241m|\u001b[39m \u001b[38;5;28;01mNone\u001b[39;00m \u001b[38;5;241m=\u001b[39m \u001b[38;5;28;01mNone\u001b[39;00m\n\u001b[1;32m-> 1620\u001b[0m \u001b[38;5;28mself\u001b[39m\u001b[38;5;241m.\u001b[39m_engine \u001b[38;5;241m=\u001b[39m \u001b[38;5;28;43mself\u001b[39;49m\u001b[38;5;241;43m.\u001b[39;49m\u001b[43m_make_engine\u001b[49m\u001b[43m(\u001b[49m\u001b[43mf\u001b[49m\u001b[43m,\u001b[49m\u001b[43m \u001b[49m\u001b[38;5;28;43mself\u001b[39;49m\u001b[38;5;241;43m.\u001b[39;49m\u001b[43mengine\u001b[49m\u001b[43m)\u001b[49m\n",
      "File \u001b[1;32md:\\python\\Lib\\site-packages\\pandas\\io\\parsers\\readers.py:1880\u001b[0m, in \u001b[0;36mTextFileReader._make_engine\u001b[1;34m(self, f, engine)\u001b[0m\n\u001b[0;32m   1878\u001b[0m     \u001b[38;5;28;01mif\u001b[39;00m \u001b[38;5;124m\"\u001b[39m\u001b[38;5;124mb\u001b[39m\u001b[38;5;124m\"\u001b[39m \u001b[38;5;129;01mnot\u001b[39;00m \u001b[38;5;129;01min\u001b[39;00m mode:\n\u001b[0;32m   1879\u001b[0m         mode \u001b[38;5;241m+\u001b[39m\u001b[38;5;241m=\u001b[39m \u001b[38;5;124m\"\u001b[39m\u001b[38;5;124mb\u001b[39m\u001b[38;5;124m\"\u001b[39m\n\u001b[1;32m-> 1880\u001b[0m \u001b[38;5;28mself\u001b[39m\u001b[38;5;241m.\u001b[39mhandles \u001b[38;5;241m=\u001b[39m \u001b[43mget_handle\u001b[49m\u001b[43m(\u001b[49m\n\u001b[0;32m   1881\u001b[0m \u001b[43m    \u001b[49m\u001b[43mf\u001b[49m\u001b[43m,\u001b[49m\n\u001b[0;32m   1882\u001b[0m \u001b[43m    \u001b[49m\u001b[43mmode\u001b[49m\u001b[43m,\u001b[49m\n\u001b[0;32m   1883\u001b[0m \u001b[43m    \u001b[49m\u001b[43mencoding\u001b[49m\u001b[38;5;241;43m=\u001b[39;49m\u001b[38;5;28;43mself\u001b[39;49m\u001b[38;5;241;43m.\u001b[39;49m\u001b[43moptions\u001b[49m\u001b[38;5;241;43m.\u001b[39;49m\u001b[43mget\u001b[49m\u001b[43m(\u001b[49m\u001b[38;5;124;43m\"\u001b[39;49m\u001b[38;5;124;43mencoding\u001b[39;49m\u001b[38;5;124;43m\"\u001b[39;49m\u001b[43m,\u001b[49m\u001b[43m \u001b[49m\u001b[38;5;28;43;01mNone\u001b[39;49;00m\u001b[43m)\u001b[49m\u001b[43m,\u001b[49m\n\u001b[0;32m   1884\u001b[0m \u001b[43m    \u001b[49m\u001b[43mcompression\u001b[49m\u001b[38;5;241;43m=\u001b[39;49m\u001b[38;5;28;43mself\u001b[39;49m\u001b[38;5;241;43m.\u001b[39;49m\u001b[43moptions\u001b[49m\u001b[38;5;241;43m.\u001b[39;49m\u001b[43mget\u001b[49m\u001b[43m(\u001b[49m\u001b[38;5;124;43m\"\u001b[39;49m\u001b[38;5;124;43mcompression\u001b[39;49m\u001b[38;5;124;43m\"\u001b[39;49m\u001b[43m,\u001b[49m\u001b[43m \u001b[49m\u001b[38;5;28;43;01mNone\u001b[39;49;00m\u001b[43m)\u001b[49m\u001b[43m,\u001b[49m\n\u001b[0;32m   1885\u001b[0m \u001b[43m    \u001b[49m\u001b[43mmemory_map\u001b[49m\u001b[38;5;241;43m=\u001b[39;49m\u001b[38;5;28;43mself\u001b[39;49m\u001b[38;5;241;43m.\u001b[39;49m\u001b[43moptions\u001b[49m\u001b[38;5;241;43m.\u001b[39;49m\u001b[43mget\u001b[49m\u001b[43m(\u001b[49m\u001b[38;5;124;43m\"\u001b[39;49m\u001b[38;5;124;43mmemory_map\u001b[39;49m\u001b[38;5;124;43m\"\u001b[39;49m\u001b[43m,\u001b[49m\u001b[43m \u001b[49m\u001b[38;5;28;43;01mFalse\u001b[39;49;00m\u001b[43m)\u001b[49m\u001b[43m,\u001b[49m\n\u001b[0;32m   1886\u001b[0m \u001b[43m    \u001b[49m\u001b[43mis_text\u001b[49m\u001b[38;5;241;43m=\u001b[39;49m\u001b[43mis_text\u001b[49m\u001b[43m,\u001b[49m\n\u001b[0;32m   1887\u001b[0m \u001b[43m    \u001b[49m\u001b[43merrors\u001b[49m\u001b[38;5;241;43m=\u001b[39;49m\u001b[38;5;28;43mself\u001b[39;49m\u001b[38;5;241;43m.\u001b[39;49m\u001b[43moptions\u001b[49m\u001b[38;5;241;43m.\u001b[39;49m\u001b[43mget\u001b[49m\u001b[43m(\u001b[49m\u001b[38;5;124;43m\"\u001b[39;49m\u001b[38;5;124;43mencoding_errors\u001b[39;49m\u001b[38;5;124;43m\"\u001b[39;49m\u001b[43m,\u001b[49m\u001b[43m \u001b[49m\u001b[38;5;124;43m\"\u001b[39;49m\u001b[38;5;124;43mstrict\u001b[39;49m\u001b[38;5;124;43m\"\u001b[39;49m\u001b[43m)\u001b[49m\u001b[43m,\u001b[49m\n\u001b[0;32m   1888\u001b[0m \u001b[43m    \u001b[49m\u001b[43mstorage_options\u001b[49m\u001b[38;5;241;43m=\u001b[39;49m\u001b[38;5;28;43mself\u001b[39;49m\u001b[38;5;241;43m.\u001b[39;49m\u001b[43moptions\u001b[49m\u001b[38;5;241;43m.\u001b[39;49m\u001b[43mget\u001b[49m\u001b[43m(\u001b[49m\u001b[38;5;124;43m\"\u001b[39;49m\u001b[38;5;124;43mstorage_options\u001b[39;49m\u001b[38;5;124;43m\"\u001b[39;49m\u001b[43m,\u001b[49m\u001b[43m \u001b[49m\u001b[38;5;28;43;01mNone\u001b[39;49;00m\u001b[43m)\u001b[49m\u001b[43m,\u001b[49m\n\u001b[0;32m   1889\u001b[0m \u001b[43m\u001b[49m\u001b[43m)\u001b[49m\n\u001b[0;32m   1890\u001b[0m \u001b[38;5;28;01massert\u001b[39;00m \u001b[38;5;28mself\u001b[39m\u001b[38;5;241m.\u001b[39mhandles \u001b[38;5;129;01mis\u001b[39;00m \u001b[38;5;129;01mnot\u001b[39;00m \u001b[38;5;28;01mNone\u001b[39;00m\n\u001b[0;32m   1891\u001b[0m f \u001b[38;5;241m=\u001b[39m \u001b[38;5;28mself\u001b[39m\u001b[38;5;241m.\u001b[39mhandles\u001b[38;5;241m.\u001b[39mhandle\n",
      "File \u001b[1;32md:\\python\\Lib\\site-packages\\pandas\\io\\common.py:873\u001b[0m, in \u001b[0;36mget_handle\u001b[1;34m(path_or_buf, mode, encoding, compression, memory_map, is_text, errors, storage_options)\u001b[0m\n\u001b[0;32m    868\u001b[0m \u001b[38;5;28;01melif\u001b[39;00m \u001b[38;5;28misinstance\u001b[39m(handle, \u001b[38;5;28mstr\u001b[39m):\n\u001b[0;32m    869\u001b[0m     \u001b[38;5;66;03m# Check whether the filename is to be opened in binary mode.\u001b[39;00m\n\u001b[0;32m    870\u001b[0m     \u001b[38;5;66;03m# Binary mode does not support 'encoding' and 'newline'.\u001b[39;00m\n\u001b[0;32m    871\u001b[0m     \u001b[38;5;28;01mif\u001b[39;00m ioargs\u001b[38;5;241m.\u001b[39mencoding \u001b[38;5;129;01mand\u001b[39;00m \u001b[38;5;124m\"\u001b[39m\u001b[38;5;124mb\u001b[39m\u001b[38;5;124m\"\u001b[39m \u001b[38;5;129;01mnot\u001b[39;00m \u001b[38;5;129;01min\u001b[39;00m ioargs\u001b[38;5;241m.\u001b[39mmode:\n\u001b[0;32m    872\u001b[0m         \u001b[38;5;66;03m# Encoding\u001b[39;00m\n\u001b[1;32m--> 873\u001b[0m         handle \u001b[38;5;241m=\u001b[39m \u001b[38;5;28mopen\u001b[39m(\n\u001b[0;32m    874\u001b[0m             handle,\n\u001b[0;32m    875\u001b[0m             ioargs\u001b[38;5;241m.\u001b[39mmode,\n\u001b[0;32m    876\u001b[0m             encoding\u001b[38;5;241m=\u001b[39mioargs\u001b[38;5;241m.\u001b[39mencoding,\n\u001b[0;32m    877\u001b[0m             errors\u001b[38;5;241m=\u001b[39merrors,\n\u001b[0;32m    878\u001b[0m             newline\u001b[38;5;241m=\u001b[39m\u001b[38;5;124m\"\u001b[39m\u001b[38;5;124m\"\u001b[39m,\n\u001b[0;32m    879\u001b[0m         )\n\u001b[0;32m    880\u001b[0m     \u001b[38;5;28;01melse\u001b[39;00m:\n\u001b[0;32m    881\u001b[0m         \u001b[38;5;66;03m# Binary mode\u001b[39;00m\n\u001b[0;32m    882\u001b[0m         handle \u001b[38;5;241m=\u001b[39m \u001b[38;5;28mopen\u001b[39m(handle, ioargs\u001b[38;5;241m.\u001b[39mmode)\n",
      "\u001b[1;31mFileNotFoundError\u001b[0m: [Errno 2] No such file or directory: 'embedding_trainmpnetdataset1.csv'"
     ]
    }
   ],
   "source": [
    "import pandas as pd\n",
    "import numpy as np # linear algebra\n",
    "\n",
    "# Replace 'path_to_dataset' with the actual path to your dataset file\n",
    "df = pd.read_csv('embedding_trainmpnetdataset1.csv')\n",
    "df_embedding = df\n",
    "\n",
    "from sklearn.preprocessing import LabelEncoder\n",
    "label_encoder = LabelEncoder()\n",
    "\n",
    "\n",
    "# Initialize LabelEncoder for the target variable y\n",
    "label_encoder_y = LabelEncoder()\n",
    "y_encoded = label_encoder_y.fit_transform(y)"
   ]
  }
 ],
 "metadata": {
  "kernelspec": {
   "display_name": "Python 3",
   "language": "python",
   "name": "python3"
  },
  "language_info": {
   "codemirror_mode": {
    "name": "ipython",
    "version": 3
   },
   "file_extension": ".py",
   "mimetype": "text/x-python",
   "name": "python",
   "nbconvert_exporter": "python",
   "pygments_lexer": "ipython3",
   "version": "3.11.1"
  }
 },
 "nbformat": 4,
 "nbformat_minor": 2
}
