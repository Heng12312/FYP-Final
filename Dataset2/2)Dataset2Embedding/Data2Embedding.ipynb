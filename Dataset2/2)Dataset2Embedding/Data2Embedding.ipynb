{
 "cells": [
  {
   "cell_type": "code",
   "execution_count": 3,
   "metadata": {},
   "outputs": [
    {
     "data": {
      "text/plain": [
       "(4424, 29)"
      ]
     },
     "execution_count": 3,
     "metadata": {},
     "output_type": "execute_result"
    }
   ],
   "source": [
    "import pandas as pd\n",
    "import numpy as np # linear algebra\n",
    "from sentence_transformers import SentenceTransformer\n",
    "# Replace 'path_to_dataset' with the actual path to your dataset file\n",
    "df = pd.read_excel('Dataset2neww.xlsx')\n",
    "df.shape"
   ]
  },
  {
   "cell_type": "code",
   "execution_count": 4,
   "metadata": {},
   "outputs": [
    {
     "name": "stderr",
     "output_type": "stream",
     "text": [
      "d:\\python\\Lib\\site-packages\\huggingface_hub\\file_download.py:1132: FutureWarning: `resume_download` is deprecated and will be removed in version 1.0.0. Downloads always resume when possible. If you want to force a new download, use `force_download=True`.\n",
      "  warnings.warn(\n",
      "Batches: 100%|██████████| 139/139 [02:17<00:00,  1.01it/s]\n"
     ]
    }
   ],
   "source": [
    "from sentence_transformers import SentenceTransformer\n",
    "def compile_text(x):\n",
    "    text = f\"\"\"Application mode: {x['Application mode']},\n",
    "              Application order: {x['Application order']},\n",
    "              Daytime: {x['Daytime']},\n",
    "              Previous qualification: {x['Previous qualification']},\n",
    "              Admission grade: {x['Admission grade']},\n",
    "              Displaced: {x['Displaced']},\n",
    "              Gender: {x['Gender']},\n",
    "              Age at enrollment: {x['Age at enrollment']},\n",
    "              Curricular units 1st sem (evaluations): {x['Curricular units 1st sem (evaluations)']},\n",
    "              Curricular units 1st sem (without evaluations): {x['Curricular units 1st sem (without evaluations)']},\n",
    "              Curricular units 2nd sem (credited): {x['Curricular units 2nd sem (credited)']},\n",
    "              Curricular units 2nd sem (evaluations): {x['Curricular units 2nd sem (evaluations)']},\n",
    "              Curricular units 2nd sem (grade): {x['Curricular units 2nd sem (grade)']},\n",
    "              Curricular units 2nd sem (without evaluations): {x['Curricular units 2nd sem (without evaluations)']},\n",
    "              Unemployment rate: {x['Unemployment rate']},\n",
    "              Inflation rate: {x['Inflation rate']},\n",
    "              GDP: {x['GDP']},\n",
    "              Target: {x['Target']}\n",
    "          \"\"\"\n",
    "    return text\n",
    "\n",
    "\n",
    "sentences = df.apply(lambda x: compile_text(x), axis=1).tolist()\n",
    "model = SentenceTransformer(r\"sentence-transformers/paraphrase-MiniLM-L6-v2\")\n",
    "#sentence-transformers/paraphrase-mpnet-base-v2\n",
    "output = model.encode(sentences=sentences, show_progress_bar= True, normalize_embeddings  = True)\n",
    "\n",
    "df_embedding = pd.DataFrame(output)\n",
    "df_embedding\n",
    "\n",
    "\n",
    "df_embedding.to_csv(\"embedding_FirstStructureL6.csv\",index = False)"
   ]
  },
  {
   "cell_type": "code",
   "execution_count": 5,
   "metadata": {},
   "outputs": [
    {
     "name": "stdout",
     "output_type": "stream",
     "text": [
      "Application mode: 17.0,\n",
      "              Application order: 5.0,\n",
      "              Daytime: 1.0,\n",
      "              Previous qualification: 1.0,\n",
      "              Admission grade: 127.3,\n",
      "              Displaced: 1.0,\n",
      "              Gender: 1.0,\n",
      "              Age at enrollment: 20.0,\n",
      "              Curricular units 1st sem (evaluations): 0.0,\n",
      "              Curricular units 1st sem (without evaluations): 0.0,\n",
      "              Curricular units 2nd sem (credited): 0.0,\n",
      "              Curricular units 2nd sem (evaluations): 0.0,\n",
      "              Curricular units 2nd sem (grade): 0.0,\n",
      "              Curricular units 2nd sem (without evaluations): 0.0,\n",
      "              Unemployment rate: 10.8,\n",
      "              Inflation rate: 1.4,\n",
      "              GDP: 1.74,\n",
      "              Target: 0.0\n",
      "          \n"
     ]
    }
   ],
   "source": [
    "for i in range(1):\n",
    "    print(sentences[i])"
   ]
  },
  {
   "cell_type": "code",
   "execution_count": 6,
   "metadata": {},
   "outputs": [
    {
     "name": "stderr",
     "output_type": "stream",
     "text": [
      "Batches: 100%|██████████| 139/139 [02:36<00:00,  1.13s/it]\n"
     ]
    }
   ],
   "source": [
    "from sentence_transformers import SentenceTransformer\n",
    "def compile_text(x):\n",
    "    text = f\"\"\"Application mode: {x['Application mode']},\n",
    "              Application order: {x['Application order']},\n",
    "              Daytime: {x['Daytime']},\n",
    "              Previous qualification: {x['Previous qualification']},\n",
    "              Admission grade: {x['Admission grade']},\n",
    "              Displaced: {x['Displaced']},\n",
    "              Gender: {x['Gender']},\n",
    "              Age at enrollment: {x['Age at enrollment']},\n",
    "              Curricular units 1st sem (evaluations): {x['Curricular units 1st sem (evaluations)']},\n",
    "              Curricular units 1st sem (without evaluations): {x['Curricular units 1st sem (without evaluations)']},\n",
    "              Curricular units 2nd sem (credited): {x['Curricular units 2nd sem (credited)']},\n",
    "              Curricular units 2nd sem (evaluations): {x['Curricular units 2nd sem (evaluations)']},\n",
    "              Curricular units 2nd sem (grade): {x['Curricular units 2nd sem (grade)']},\n",
    "              Curricular units 2nd sem (without evaluations): {x['Curricular units 2nd sem (without evaluations)']},\n",
    "              Unemployment rate: {x['Unemployment rate']},\n",
    "              Inflation rate: {x['Inflation rate']},\n",
    "              GDP: {x['GDP']},\n",
    "              Target: {x['Target']}\n",
    "          \"\"\"\n",
    "    return text\n",
    "\n",
    "\n",
    "sentences = df.apply(lambda x: compile_text(x), axis=1).tolist()\n",
    "model = SentenceTransformer(r\"sentence-transformers/paraphrase-multilingual-MiniLM-L12-v2\")\n",
    "#sentence-transformers/paraphrase-mpnet-base-v2\n",
    "output = model.encode(sentences=sentences, show_progress_bar= True, normalize_embeddings  = True)\n",
    "\n",
    "df_embedding = pd.DataFrame(output)\n",
    "df_embedding\n",
    "\n",
    "\n",
    "df_embedding.to_csv(\"embedding_FirstStructureL12.csv\",index = False)"
   ]
  },
  {
   "cell_type": "code",
   "execution_count": 7,
   "metadata": {},
   "outputs": [
    {
     "name": "stderr",
     "output_type": "stream",
     "text": [
      "Batches: 100%|██████████| 139/139 [01:19<00:00,  1.76it/s]\n"
     ]
    }
   ],
   "source": [
    "def compile_text(x):\n",
    "    text = f\"\"\"\n",
    "    The application mode is {x['Application mode']}, and the application order is {x['Application order']}. The student applied during the daytime and their previous qualification was {x['Previous qualification']}. They were admitted with an admission grade of {x['Admission grade']}. The student was displaced: {x['Displaced']}, and their gender is {x['Gender']}. At the time of enrollment, they were {x['Age at enrollment']} years old.\n",
    "During the first semester, they completed {x['Curricular units 1st sem (evaluations)']} curricular units with evaluations, and had {x['Curricular units 1st sem (without evaluations)']} units without evaluations. In the second semester, they received credits for {x['Curricular units 2nd sem (credited)']} units, completed {x['Curricular units 2nd sem (evaluations)']} units with evaluations, and earned a grade of {x['Curricular units 2nd sem (grade)']} for the evaluated units. Additionally, they had {x['Curricular units 2nd sem (without evaluations)']} units without evaluations in the second semester.\n",
    "The unemployment rate during this period was {x['Unemployment rate']}, the inflation rate was {x['Inflation rate']}, and the GDP was {x['GDP']}. The target outcome for the student was {x['Target']}. \"\"\"\n",
    "    return text\n",
    "\n",
    "\n",
    "sentences = df.apply(lambda x: compile_text(x), axis=1).tolist()\n",
    "model = SentenceTransformer(r\"sentence-transformers/paraphrase-MiniLM-L6-v2\")\n",
    "#sentence-transformers/paraphrase-mpnet-base-v2\n",
    "output = model.encode(sentences=sentences, show_progress_bar= True, normalize_embeddings  = True)\n",
    "\n",
    "df_embedding = pd.DataFrame(output)\n",
    "df_embedding\n",
    "\n",
    "\n",
    "df_embedding.to_csv(\"embedding_SecondStructureL6.csv\",index = False)"
   ]
  },
  {
   "cell_type": "code",
   "execution_count": 8,
   "metadata": {},
   "outputs": [
    {
     "name": "stdout",
     "output_type": "stream",
     "text": [
      "\n",
      "    The application mode is 17.0, and the application order is 5.0. The student applied during the daytime and their previous qualification was 1.0. They were admitted with an admission grade of 127.3. The student was displaced: 1.0, and their gender is 1.0. At the time of enrollment, they were 20.0 years old.\n",
      "During the first semester, they completed 0.0 curricular units with evaluations, and had 0.0 units without evaluations. In the second semester, they received credits for 0.0 units, completed 0.0 units with evaluations, and earned a grade of 0.0 for the evaluated units. Additionally, they had 0.0 units without evaluations in the second semester.\n",
      "The unemployment rate during this period was 10.8, the inflation rate was 1.4, and the GDP was 1.74. The target outcome for the student was 0.0. \n"
     ]
    }
   ],
   "source": [
    "for i in range(1):\n",
    "    print(sentences[i])"
   ]
  },
  {
   "cell_type": "code",
   "execution_count": 9,
   "metadata": {},
   "outputs": [
    {
     "name": "stderr",
     "output_type": "stream",
     "text": [
      "Batches: 100%|██████████| 139/139 [02:35<00:00,  1.12s/it]\n"
     ]
    }
   ],
   "source": [
    "def compile_text(x):\n",
    "    text = f\"\"\"\n",
    "    The application mode is {x['Application mode']}, and the application order is {x['Application order']}. The student applied during the daytime and their previous qualification was {x['Previous qualification']}. They were admitted with an admission grade of {x['Admission grade']}. The student was displaced: {x['Displaced']}, and their gender is {x['Gender']}. At the time of enrollment, they were {x['Age at enrollment']} years old.\n",
    "During the first semester, they completed {x['Curricular units 1st sem (evaluations)']} curricular units with evaluations, and had {x['Curricular units 1st sem (without evaluations)']} units without evaluations. In the second semester, they received credits for {x['Curricular units 2nd sem (credited)']} units, completed {x['Curricular units 2nd sem (evaluations)']} units with evaluations, and earned a grade of {x['Curricular units 2nd sem (grade)']} for the evaluated units. Additionally, they had {x['Curricular units 2nd sem (without evaluations)']} units without evaluations in the second semester.\n",
    "The unemployment rate during this period was {x['Unemployment rate']}, the inflation rate was {x['Inflation rate']}, and the GDP was {x['GDP']}. The target outcome for the student was {x['Target']}. \"\"\"\n",
    "    return text\n",
    "\n",
    "\n",
    "sentences = df.apply(lambda x: compile_text(x), axis=1).tolist()\n",
    "model = SentenceTransformer(r\"sentence-transformers/paraphrase-multilingual-MiniLM-L12-v2\")\n",
    "#sentence-transformers/paraphrase-mpnet-base-v2\n",
    "output = model.encode(sentences=sentences, show_progress_bar= True, normalize_embeddings  = True)\n",
    "\n",
    "df_embedding = pd.DataFrame(output)\n",
    "df_embedding\n",
    "\n",
    "\n",
    "df_embedding.to_csv(\"embedding_SecondStructureL12.csv\",index = False)"
   ]
  },
  {
   "cell_type": "code",
   "execution_count": 10,
   "metadata": {},
   "outputs": [
    {
     "name": "stdout",
     "output_type": "stream",
     "text": [
      "Requirement already satisfied: tensorflow in d:\\python\\lib\\site-packages (2.16.1)\n",
      "Requirement already satisfied: tensorflow-hub in d:\\python\\lib\\site-packages (0.16.1)\n",
      "Requirement already satisfied: pandas in d:\\python\\lib\\site-packages (2.2.2)\n",
      "Requirement already satisfied: tensorflow-intel==2.16.1 in d:\\python\\lib\\site-packages (from tensorflow) (2.16.1)\n",
      "Requirement already satisfied: absl-py>=1.0.0 in d:\\python\\lib\\site-packages (from tensorflow-intel==2.16.1->tensorflow) (2.1.0)\n",
      "Requirement already satisfied: astunparse>=1.6.0 in d:\\python\\lib\\site-packages (from tensorflow-intel==2.16.1->tensorflow) (1.6.3)\n",
      "Requirement already satisfied: flatbuffers>=23.5.26 in d:\\python\\lib\\site-packages (from tensorflow-intel==2.16.1->tensorflow) (24.3.25)\n",
      "Requirement already satisfied: gast!=0.5.0,!=0.5.1,!=0.5.2,>=0.2.1 in d:\\python\\lib\\site-packages (from tensorflow-intel==2.16.1->tensorflow) (0.5.4)\n",
      "Requirement already satisfied: google-pasta>=0.1.1 in d:\\python\\lib\\site-packages (from tensorflow-intel==2.16.1->tensorflow) (0.2.0)\n",
      "Requirement already satisfied: h5py>=3.10.0 in d:\\python\\lib\\site-packages (from tensorflow-intel==2.16.1->tensorflow) (3.11.0)\n",
      "Requirement already satisfied: libclang>=13.0.0 in d:\\python\\lib\\site-packages (from tensorflow-intel==2.16.1->tensorflow) (18.1.1)\n",
      "Requirement already satisfied: ml-dtypes~=0.3.1 in d:\\python\\lib\\site-packages (from tensorflow-intel==2.16.1->tensorflow) (0.3.2)\n",
      "Requirement already satisfied: opt-einsum>=2.3.2 in d:\\python\\lib\\site-packages (from tensorflow-intel==2.16.1->tensorflow) (3.3.0)\n",
      "Requirement already satisfied: packaging in c:\\users\\user\\appdata\\roaming\\python\\python311\\site-packages (from tensorflow-intel==2.16.1->tensorflow) (24.0)\n",
      "Requirement already satisfied: protobuf!=4.21.0,!=4.21.1,!=4.21.2,!=4.21.3,!=4.21.4,!=4.21.5,<5.0.0dev,>=3.20.3 in d:\\python\\lib\\site-packages (from tensorflow-intel==2.16.1->tensorflow) (4.25.3)\n",
      "Requirement already satisfied: requests<3,>=2.21.0 in d:\\python\\lib\\site-packages (from tensorflow-intel==2.16.1->tensorflow) (2.31.0)\n",
      "Requirement already satisfied: setuptools in d:\\python\\lib\\site-packages (from tensorflow-intel==2.16.1->tensorflow) (65.5.0)\n",
      "Requirement already satisfied: six>=1.12.0 in c:\\users\\user\\appdata\\roaming\\python\\python311\\site-packages (from tensorflow-intel==2.16.1->tensorflow) (1.16.0)\n",
      "Requirement already satisfied: termcolor>=1.1.0 in d:\\python\\lib\\site-packages (from tensorflow-intel==2.16.1->tensorflow) (2.4.0)\n",
      "Requirement already satisfied: typing-extensions>=3.6.6 in c:\\users\\user\\appdata\\roaming\\python\\python311\\site-packages (from tensorflow-intel==2.16.1->tensorflow) (4.11.0)\n",
      "Requirement already satisfied: wrapt>=1.11.0 in d:\\python\\lib\\site-packages (from tensorflow-intel==2.16.1->tensorflow) (1.16.0)\n",
      "Requirement already satisfied: grpcio<2.0,>=1.24.3 in d:\\python\\lib\\site-packages (from tensorflow-intel==2.16.1->tensorflow) (1.63.0)\n",
      "Requirement already satisfied: tensorboard<2.17,>=2.16 in d:\\python\\lib\\site-packages (from tensorflow-intel==2.16.1->tensorflow) (2.16.2)\n",
      "Requirement already satisfied: keras>=3.0.0 in d:\\python\\lib\\site-packages (from tensorflow-intel==2.16.1->tensorflow) (3.3.3)\n",
      "Requirement already satisfied: tensorflow-io-gcs-filesystem>=0.23.1 in d:\\python\\lib\\site-packages (from tensorflow-intel==2.16.1->tensorflow) (0.31.0)\n",
      "Requirement already satisfied: numpy<2.0.0,>=1.23.5 in d:\\python\\lib\\site-packages (from tensorflow-intel==2.16.1->tensorflow) (1.26.3)\n",
      "Requirement already satisfied: tf-keras>=2.14.1 in d:\\python\\lib\\site-packages (from tensorflow-hub) (2.16.0)\n",
      "Requirement already satisfied: python-dateutil>=2.8.2 in c:\\users\\user\\appdata\\roaming\\python\\python311\\site-packages (from pandas) (2.9.0.post0)\n",
      "Requirement already satisfied: pytz>=2020.1 in d:\\python\\lib\\site-packages (from pandas) (2024.1)\n",
      "Requirement already satisfied: tzdata>=2022.7 in d:\\python\\lib\\site-packages (from pandas) (2024.1)\n",
      "Requirement already satisfied: wheel<1.0,>=0.23.0 in d:\\python\\lib\\site-packages (from astunparse>=1.6.0->tensorflow-intel==2.16.1->tensorflow) (0.43.0)\n",
      "Requirement already satisfied: rich in d:\\python\\lib\\site-packages (from keras>=3.0.0->tensorflow-intel==2.16.1->tensorflow) (13.7.1)\n",
      "Requirement already satisfied: namex in d:\\python\\lib\\site-packages (from keras>=3.0.0->tensorflow-intel==2.16.1->tensorflow) (0.0.8)\n",
      "Requirement already satisfied: optree in d:\\python\\lib\\site-packages (from keras>=3.0.0->tensorflow-intel==2.16.1->tensorflow) (0.11.0)\n",
      "Requirement already satisfied: charset-normalizer<4,>=2 in d:\\python\\lib\\site-packages (from requests<3,>=2.21.0->tensorflow-intel==2.16.1->tensorflow) (3.3.2)\n",
      "Requirement already satisfied: idna<4,>=2.5 in d:\\python\\lib\\site-packages (from requests<3,>=2.21.0->tensorflow-intel==2.16.1->tensorflow) (3.7)\n",
      "Requirement already satisfied: urllib3<3,>=1.21.1 in d:\\python\\lib\\site-packages (from requests<3,>=2.21.0->tensorflow-intel==2.16.1->tensorflow) (2.2.1)\n",
      "Requirement already satisfied: certifi>=2017.4.17 in d:\\python\\lib\\site-packages (from requests<3,>=2.21.0->tensorflow-intel==2.16.1->tensorflow) (2024.2.2)\n",
      "Requirement already satisfied: markdown>=2.6.8 in d:\\python\\lib\\site-packages (from tensorboard<2.17,>=2.16->tensorflow-intel==2.16.1->tensorflow) (3.6)\n",
      "Requirement already satisfied: tensorboard-data-server<0.8.0,>=0.7.0 in d:\\python\\lib\\site-packages (from tensorboard<2.17,>=2.16->tensorflow-intel==2.16.1->tensorflow) (0.7.2)\n",
      "Requirement already satisfied: werkzeug>=1.0.1 in d:\\python\\lib\\site-packages (from tensorboard<2.17,>=2.16->tensorflow-intel==2.16.1->tensorflow) (3.0.3)\n",
      "Requirement already satisfied: MarkupSafe>=2.1.1 in d:\\python\\lib\\site-packages (from werkzeug>=1.0.1->tensorboard<2.17,>=2.16->tensorflow-intel==2.16.1->tensorflow) (2.1.5)\n",
      "Requirement already satisfied: markdown-it-py>=2.2.0 in d:\\python\\lib\\site-packages (from rich->keras>=3.0.0->tensorflow-intel==2.16.1->tensorflow) (3.0.0)\n",
      "Requirement already satisfied: pygments<3.0.0,>=2.13.0 in c:\\users\\user\\appdata\\roaming\\python\\python311\\site-packages (from rich->keras>=3.0.0->tensorflow-intel==2.16.1->tensorflow) (2.18.0)\n",
      "Requirement already satisfied: mdurl~=0.1 in d:\\python\\lib\\site-packages (from markdown-it-py>=2.2.0->rich->keras>=3.0.0->tensorflow-intel==2.16.1->tensorflow) (0.1.2)\n"
     ]
    }
   ],
   "source": [
    "!pip install tensorflow tensorflow-hub pandas\n"
   ]
  },
  {
   "cell_type": "code",
   "execution_count": null,
   "metadata": {},
   "outputs": [],
   "source": []
  },
  {
   "cell_type": "code",
   "execution_count": 11,
   "metadata": {},
   "outputs": [
    {
     "name": "stderr",
     "output_type": "stream",
     "text": [
      "Batches: 100%|██████████| 139/139 [09:11<00:00,  3.97s/it]\n"
     ]
    }
   ],
   "source": [
    "from sentence_transformers import SentenceTransformer\n",
    "def compile_text(x):\n",
    "    text = f\"\"\"Application mode: {x['Application mode']},\n",
    "              Application order: {x['Application order']},\n",
    "              Daytime: {x['Daytime']},\n",
    "              Previous qualification: {x['Previous qualification']},\n",
    "              Admission grade: {x['Admission grade']},\n",
    "              Displaced: {x['Displaced']},\n",
    "              Gender: {x['Gender']},\n",
    "              Age at enrollment: {x['Age at enrollment']},\n",
    "              Curricular units 1st sem (evaluations): {x['Curricular units 1st sem (evaluations)']},\n",
    "              Curricular units 1st sem (without evaluations): {x['Curricular units 1st sem (without evaluations)']},\n",
    "              Curricular units 2nd sem (credited): {x['Curricular units 2nd sem (credited)']},\n",
    "              Curricular units 2nd sem (evaluations): {x['Curricular units 2nd sem (evaluations)']},\n",
    "              Curricular units 2nd sem (grade): {x['Curricular units 2nd sem (grade)']},\n",
    "              Curricular units 2nd sem (without evaluations): {x['Curricular units 2nd sem (without evaluations)']},\n",
    "              Unemployment rate: {x['Unemployment rate']},\n",
    "              Inflation rate: {x['Inflation rate']},\n",
    "              GDP: {x['GDP']},\n",
    "              Target: {x['Target']}\n",
    "          \"\"\"\n",
    "    return text\n",
    "\n",
    "\n",
    "sentences = df.apply(lambda x: compile_text(x), axis=1).tolist()\n",
    "model = SentenceTransformer(r\"sentence-transformers/all-mpnet-base-v2\")\n",
    "#sentence-transformers/paraphrase-mpnet-base-v2\n",
    "output = model.encode(sentences=sentences, show_progress_bar= True, normalize_embeddings  = True)\n",
    "\n",
    "df_embedding = pd.DataFrame(output)\n",
    "df_embedding\n",
    "\n",
    "\n",
    "df_embedding.to_csv(\"embedding_MPNETFirstStructureMPNET.csv\",index = False)"
   ]
  },
  {
   "cell_type": "code",
   "execution_count": 12,
   "metadata": {},
   "outputs": [
    {
     "name": "stderr",
     "output_type": "stream",
     "text": [
      "Batches: 100%|██████████| 139/139 [10:25<00:00,  4.50s/it]\n"
     ]
    }
   ],
   "source": [
    "from sentence_transformers import SentenceTransformer\n",
    "def compile_text(x):\n",
    "    text = f\"\"\"\n",
    "    The application mode is {x['Application mode']}, and the application order is {x['Application order']}. The student applied during the daytime and their previous qualification was {x['Previous qualification']}. They were admitted with an admission grade of {x['Admission grade']}. The student was displaced: {x['Displaced']}, and their gender is {x['Gender']}. At the time of enrollment, they were {x['Age at enrollment']} years old.\n",
    "During the first semester, they completed {x['Curricular units 1st sem (evaluations)']} curricular units with evaluations, and had {x['Curricular units 1st sem (without evaluations)']} units without evaluations. In the second semester, they received credits for {x['Curricular units 2nd sem (credited)']} units, completed {x['Curricular units 2nd sem (evaluations)']} units with evaluations, and earned a grade of {x['Curricular units 2nd sem (grade)']} for the evaluated units. Additionally, they had {x['Curricular units 2nd sem (without evaluations)']} units without evaluations in the second semester.\n",
    "The unemployment rate during this period was {x['Unemployment rate']}, the inflation rate was {x['Inflation rate']}, and the GDP was {x['GDP']}. The target outcome for the student was {x['Target']}. \"\"\"\n",
    "    return text\n",
    "\n",
    "sentences = df.apply(lambda x: compile_text(x), axis=1).tolist()\n",
    "model = SentenceTransformer(r\"sentence-transformers/all-mpnet-base-v2\")\n",
    "#sentence-transformers/paraphrase-mpnet-base-v2\n",
    "output = model.encode(sentences=sentences, show_progress_bar= True, normalize_embeddings  = True)\n",
    "\n",
    "df_embedding = pd.DataFrame(output)\n",
    "df_embedding\n",
    "\n",
    "\n",
    "df_embedding.to_csv(\"embedding_MPNETSecondStructure.csv\",index = False)"
   ]
  },
  {
   "cell_type": "code",
   "execution_count": 13,
   "metadata": {},
   "outputs": [
    {
     "ename": "FileNotFoundError",
     "evalue": "[Errno 2] No such file or directory: 'embedding_trainmpnetdataset1.csv'",
     "output_type": "error",
     "traceback": [
      "\u001b[1;31m---------------------------------------------------------------------------\u001b[0m",
      "\u001b[1;31mFileNotFoundError\u001b[0m                         Traceback (most recent call last)",
      "Cell \u001b[1;32mIn[13], line 5\u001b[0m\n\u001b[0;32m      2\u001b[0m \u001b[38;5;28;01mimport\u001b[39;00m \u001b[38;5;21;01mnumpy\u001b[39;00m \u001b[38;5;28;01mas\u001b[39;00m \u001b[38;5;21;01mnp\u001b[39;00m \u001b[38;5;66;03m# linear algebra\u001b[39;00m\n\u001b[0;32m      4\u001b[0m \u001b[38;5;66;03m# Replace 'path_to_dataset' with the actual path to your dataset file\u001b[39;00m\n\u001b[1;32m----> 5\u001b[0m df \u001b[38;5;241m=\u001b[39m \u001b[43mpd\u001b[49m\u001b[38;5;241;43m.\u001b[39;49m\u001b[43mread_csv\u001b[49m\u001b[43m(\u001b[49m\u001b[38;5;124;43m'\u001b[39;49m\u001b[38;5;124;43membedding_trainmpnetdataset1.csv\u001b[39;49m\u001b[38;5;124;43m'\u001b[39;49m\u001b[43m)\u001b[49m\n\u001b[0;32m      6\u001b[0m df_embedding \u001b[38;5;241m=\u001b[39m df\n\u001b[0;32m      8\u001b[0m \u001b[38;5;28;01mfrom\u001b[39;00m \u001b[38;5;21;01msklearn\u001b[39;00m\u001b[38;5;21;01m.\u001b[39;00m\u001b[38;5;21;01mpreprocessing\u001b[39;00m \u001b[38;5;28;01mimport\u001b[39;00m LabelEncoder\n",
      "File \u001b[1;32md:\\python\\Lib\\site-packages\\pandas\\io\\parsers\\readers.py:1026\u001b[0m, in \u001b[0;36mread_csv\u001b[1;34m(filepath_or_buffer, sep, delimiter, header, names, index_col, usecols, dtype, engine, converters, true_values, false_values, skipinitialspace, skiprows, skipfooter, nrows, na_values, keep_default_na, na_filter, verbose, skip_blank_lines, parse_dates, infer_datetime_format, keep_date_col, date_parser, date_format, dayfirst, cache_dates, iterator, chunksize, compression, thousands, decimal, lineterminator, quotechar, quoting, doublequote, escapechar, comment, encoding, encoding_errors, dialect, on_bad_lines, delim_whitespace, low_memory, memory_map, float_precision, storage_options, dtype_backend)\u001b[0m\n\u001b[0;32m   1013\u001b[0m kwds_defaults \u001b[38;5;241m=\u001b[39m _refine_defaults_read(\n\u001b[0;32m   1014\u001b[0m     dialect,\n\u001b[0;32m   1015\u001b[0m     delimiter,\n\u001b[1;32m   (...)\u001b[0m\n\u001b[0;32m   1022\u001b[0m     dtype_backend\u001b[38;5;241m=\u001b[39mdtype_backend,\n\u001b[0;32m   1023\u001b[0m )\n\u001b[0;32m   1024\u001b[0m kwds\u001b[38;5;241m.\u001b[39mupdate(kwds_defaults)\n\u001b[1;32m-> 1026\u001b[0m \u001b[38;5;28;01mreturn\u001b[39;00m \u001b[43m_read\u001b[49m\u001b[43m(\u001b[49m\u001b[43mfilepath_or_buffer\u001b[49m\u001b[43m,\u001b[49m\u001b[43m \u001b[49m\u001b[43mkwds\u001b[49m\u001b[43m)\u001b[49m\n",
      "File \u001b[1;32md:\\python\\Lib\\site-packages\\pandas\\io\\parsers\\readers.py:620\u001b[0m, in \u001b[0;36m_read\u001b[1;34m(filepath_or_buffer, kwds)\u001b[0m\n\u001b[0;32m    617\u001b[0m _validate_names(kwds\u001b[38;5;241m.\u001b[39mget(\u001b[38;5;124m\"\u001b[39m\u001b[38;5;124mnames\u001b[39m\u001b[38;5;124m\"\u001b[39m, \u001b[38;5;28;01mNone\u001b[39;00m))\n\u001b[0;32m    619\u001b[0m \u001b[38;5;66;03m# Create the parser.\u001b[39;00m\n\u001b[1;32m--> 620\u001b[0m parser \u001b[38;5;241m=\u001b[39m \u001b[43mTextFileReader\u001b[49m\u001b[43m(\u001b[49m\u001b[43mfilepath_or_buffer\u001b[49m\u001b[43m,\u001b[49m\u001b[43m \u001b[49m\u001b[38;5;241;43m*\u001b[39;49m\u001b[38;5;241;43m*\u001b[39;49m\u001b[43mkwds\u001b[49m\u001b[43m)\u001b[49m\n\u001b[0;32m    622\u001b[0m \u001b[38;5;28;01mif\u001b[39;00m chunksize \u001b[38;5;129;01mor\u001b[39;00m iterator:\n\u001b[0;32m    623\u001b[0m     \u001b[38;5;28;01mreturn\u001b[39;00m parser\n",
      "File \u001b[1;32md:\\python\\Lib\\site-packages\\pandas\\io\\parsers\\readers.py:1620\u001b[0m, in \u001b[0;36mTextFileReader.__init__\u001b[1;34m(self, f, engine, **kwds)\u001b[0m\n\u001b[0;32m   1617\u001b[0m     \u001b[38;5;28mself\u001b[39m\u001b[38;5;241m.\u001b[39moptions[\u001b[38;5;124m\"\u001b[39m\u001b[38;5;124mhas_index_names\u001b[39m\u001b[38;5;124m\"\u001b[39m] \u001b[38;5;241m=\u001b[39m kwds[\u001b[38;5;124m\"\u001b[39m\u001b[38;5;124mhas_index_names\u001b[39m\u001b[38;5;124m\"\u001b[39m]\n\u001b[0;32m   1619\u001b[0m \u001b[38;5;28mself\u001b[39m\u001b[38;5;241m.\u001b[39mhandles: IOHandles \u001b[38;5;241m|\u001b[39m \u001b[38;5;28;01mNone\u001b[39;00m \u001b[38;5;241m=\u001b[39m \u001b[38;5;28;01mNone\u001b[39;00m\n\u001b[1;32m-> 1620\u001b[0m \u001b[38;5;28mself\u001b[39m\u001b[38;5;241m.\u001b[39m_engine \u001b[38;5;241m=\u001b[39m \u001b[38;5;28;43mself\u001b[39;49m\u001b[38;5;241;43m.\u001b[39;49m\u001b[43m_make_engine\u001b[49m\u001b[43m(\u001b[49m\u001b[43mf\u001b[49m\u001b[43m,\u001b[49m\u001b[43m \u001b[49m\u001b[38;5;28;43mself\u001b[39;49m\u001b[38;5;241;43m.\u001b[39;49m\u001b[43mengine\u001b[49m\u001b[43m)\u001b[49m\n",
      "File \u001b[1;32md:\\python\\Lib\\site-packages\\pandas\\io\\parsers\\readers.py:1880\u001b[0m, in \u001b[0;36mTextFileReader._make_engine\u001b[1;34m(self, f, engine)\u001b[0m\n\u001b[0;32m   1878\u001b[0m     \u001b[38;5;28;01mif\u001b[39;00m \u001b[38;5;124m\"\u001b[39m\u001b[38;5;124mb\u001b[39m\u001b[38;5;124m\"\u001b[39m \u001b[38;5;129;01mnot\u001b[39;00m \u001b[38;5;129;01min\u001b[39;00m mode:\n\u001b[0;32m   1879\u001b[0m         mode \u001b[38;5;241m+\u001b[39m\u001b[38;5;241m=\u001b[39m \u001b[38;5;124m\"\u001b[39m\u001b[38;5;124mb\u001b[39m\u001b[38;5;124m\"\u001b[39m\n\u001b[1;32m-> 1880\u001b[0m \u001b[38;5;28mself\u001b[39m\u001b[38;5;241m.\u001b[39mhandles \u001b[38;5;241m=\u001b[39m \u001b[43mget_handle\u001b[49m\u001b[43m(\u001b[49m\n\u001b[0;32m   1881\u001b[0m \u001b[43m    \u001b[49m\u001b[43mf\u001b[49m\u001b[43m,\u001b[49m\n\u001b[0;32m   1882\u001b[0m \u001b[43m    \u001b[49m\u001b[43mmode\u001b[49m\u001b[43m,\u001b[49m\n\u001b[0;32m   1883\u001b[0m \u001b[43m    \u001b[49m\u001b[43mencoding\u001b[49m\u001b[38;5;241;43m=\u001b[39;49m\u001b[38;5;28;43mself\u001b[39;49m\u001b[38;5;241;43m.\u001b[39;49m\u001b[43moptions\u001b[49m\u001b[38;5;241;43m.\u001b[39;49m\u001b[43mget\u001b[49m\u001b[43m(\u001b[49m\u001b[38;5;124;43m\"\u001b[39;49m\u001b[38;5;124;43mencoding\u001b[39;49m\u001b[38;5;124;43m\"\u001b[39;49m\u001b[43m,\u001b[49m\u001b[43m \u001b[49m\u001b[38;5;28;43;01mNone\u001b[39;49;00m\u001b[43m)\u001b[49m\u001b[43m,\u001b[49m\n\u001b[0;32m   1884\u001b[0m \u001b[43m    \u001b[49m\u001b[43mcompression\u001b[49m\u001b[38;5;241;43m=\u001b[39;49m\u001b[38;5;28;43mself\u001b[39;49m\u001b[38;5;241;43m.\u001b[39;49m\u001b[43moptions\u001b[49m\u001b[38;5;241;43m.\u001b[39;49m\u001b[43mget\u001b[49m\u001b[43m(\u001b[49m\u001b[38;5;124;43m\"\u001b[39;49m\u001b[38;5;124;43mcompression\u001b[39;49m\u001b[38;5;124;43m\"\u001b[39;49m\u001b[43m,\u001b[49m\u001b[43m \u001b[49m\u001b[38;5;28;43;01mNone\u001b[39;49;00m\u001b[43m)\u001b[49m\u001b[43m,\u001b[49m\n\u001b[0;32m   1885\u001b[0m \u001b[43m    \u001b[49m\u001b[43mmemory_map\u001b[49m\u001b[38;5;241;43m=\u001b[39;49m\u001b[38;5;28;43mself\u001b[39;49m\u001b[38;5;241;43m.\u001b[39;49m\u001b[43moptions\u001b[49m\u001b[38;5;241;43m.\u001b[39;49m\u001b[43mget\u001b[49m\u001b[43m(\u001b[49m\u001b[38;5;124;43m\"\u001b[39;49m\u001b[38;5;124;43mmemory_map\u001b[39;49m\u001b[38;5;124;43m\"\u001b[39;49m\u001b[43m,\u001b[49m\u001b[43m \u001b[49m\u001b[38;5;28;43;01mFalse\u001b[39;49;00m\u001b[43m)\u001b[49m\u001b[43m,\u001b[49m\n\u001b[0;32m   1886\u001b[0m \u001b[43m    \u001b[49m\u001b[43mis_text\u001b[49m\u001b[38;5;241;43m=\u001b[39;49m\u001b[43mis_text\u001b[49m\u001b[43m,\u001b[49m\n\u001b[0;32m   1887\u001b[0m \u001b[43m    \u001b[49m\u001b[43merrors\u001b[49m\u001b[38;5;241;43m=\u001b[39;49m\u001b[38;5;28;43mself\u001b[39;49m\u001b[38;5;241;43m.\u001b[39;49m\u001b[43moptions\u001b[49m\u001b[38;5;241;43m.\u001b[39;49m\u001b[43mget\u001b[49m\u001b[43m(\u001b[49m\u001b[38;5;124;43m\"\u001b[39;49m\u001b[38;5;124;43mencoding_errors\u001b[39;49m\u001b[38;5;124;43m\"\u001b[39;49m\u001b[43m,\u001b[49m\u001b[43m \u001b[49m\u001b[38;5;124;43m\"\u001b[39;49m\u001b[38;5;124;43mstrict\u001b[39;49m\u001b[38;5;124;43m\"\u001b[39;49m\u001b[43m)\u001b[49m\u001b[43m,\u001b[49m\n\u001b[0;32m   1888\u001b[0m \u001b[43m    \u001b[49m\u001b[43mstorage_options\u001b[49m\u001b[38;5;241;43m=\u001b[39;49m\u001b[38;5;28;43mself\u001b[39;49m\u001b[38;5;241;43m.\u001b[39;49m\u001b[43moptions\u001b[49m\u001b[38;5;241;43m.\u001b[39;49m\u001b[43mget\u001b[49m\u001b[43m(\u001b[49m\u001b[38;5;124;43m\"\u001b[39;49m\u001b[38;5;124;43mstorage_options\u001b[39;49m\u001b[38;5;124;43m\"\u001b[39;49m\u001b[43m,\u001b[49m\u001b[43m \u001b[49m\u001b[38;5;28;43;01mNone\u001b[39;49;00m\u001b[43m)\u001b[49m\u001b[43m,\u001b[49m\n\u001b[0;32m   1889\u001b[0m \u001b[43m\u001b[49m\u001b[43m)\u001b[49m\n\u001b[0;32m   1890\u001b[0m \u001b[38;5;28;01massert\u001b[39;00m \u001b[38;5;28mself\u001b[39m\u001b[38;5;241m.\u001b[39mhandles \u001b[38;5;129;01mis\u001b[39;00m \u001b[38;5;129;01mnot\u001b[39;00m \u001b[38;5;28;01mNone\u001b[39;00m\n\u001b[0;32m   1891\u001b[0m f \u001b[38;5;241m=\u001b[39m \u001b[38;5;28mself\u001b[39m\u001b[38;5;241m.\u001b[39mhandles\u001b[38;5;241m.\u001b[39mhandle\n",
      "File \u001b[1;32md:\\python\\Lib\\site-packages\\pandas\\io\\common.py:873\u001b[0m, in \u001b[0;36mget_handle\u001b[1;34m(path_or_buf, mode, encoding, compression, memory_map, is_text, errors, storage_options)\u001b[0m\n\u001b[0;32m    868\u001b[0m \u001b[38;5;28;01melif\u001b[39;00m \u001b[38;5;28misinstance\u001b[39m(handle, \u001b[38;5;28mstr\u001b[39m):\n\u001b[0;32m    869\u001b[0m     \u001b[38;5;66;03m# Check whether the filename is to be opened in binary mode.\u001b[39;00m\n\u001b[0;32m    870\u001b[0m     \u001b[38;5;66;03m# Binary mode does not support 'encoding' and 'newline'.\u001b[39;00m\n\u001b[0;32m    871\u001b[0m     \u001b[38;5;28;01mif\u001b[39;00m ioargs\u001b[38;5;241m.\u001b[39mencoding \u001b[38;5;129;01mand\u001b[39;00m \u001b[38;5;124m\"\u001b[39m\u001b[38;5;124mb\u001b[39m\u001b[38;5;124m\"\u001b[39m \u001b[38;5;129;01mnot\u001b[39;00m \u001b[38;5;129;01min\u001b[39;00m ioargs\u001b[38;5;241m.\u001b[39mmode:\n\u001b[0;32m    872\u001b[0m         \u001b[38;5;66;03m# Encoding\u001b[39;00m\n\u001b[1;32m--> 873\u001b[0m         handle \u001b[38;5;241m=\u001b[39m \u001b[38;5;28mopen\u001b[39m(\n\u001b[0;32m    874\u001b[0m             handle,\n\u001b[0;32m    875\u001b[0m             ioargs\u001b[38;5;241m.\u001b[39mmode,\n\u001b[0;32m    876\u001b[0m             encoding\u001b[38;5;241m=\u001b[39mioargs\u001b[38;5;241m.\u001b[39mencoding,\n\u001b[0;32m    877\u001b[0m             errors\u001b[38;5;241m=\u001b[39merrors,\n\u001b[0;32m    878\u001b[0m             newline\u001b[38;5;241m=\u001b[39m\u001b[38;5;124m\"\u001b[39m\u001b[38;5;124m\"\u001b[39m,\n\u001b[0;32m    879\u001b[0m         )\n\u001b[0;32m    880\u001b[0m     \u001b[38;5;28;01melse\u001b[39;00m:\n\u001b[0;32m    881\u001b[0m         \u001b[38;5;66;03m# Binary mode\u001b[39;00m\n\u001b[0;32m    882\u001b[0m         handle \u001b[38;5;241m=\u001b[39m \u001b[38;5;28mopen\u001b[39m(handle, ioargs\u001b[38;5;241m.\u001b[39mmode)\n",
      "\u001b[1;31mFileNotFoundError\u001b[0m: [Errno 2] No such file or directory: 'embedding_trainmpnetdataset1.csv'"
     ]
    }
   ],
   "source": [
    "import pandas as pd\n",
    "import numpy as np # linear algebra\n",
    "\n",
    "# Replace 'path_to_dataset' with the actual path to your dataset file\n",
    "df = pd.read_csv('embedding_trainmpnetdataset1.csv')\n",
    "df_embedding = df\n",
    "\n",
    "from sklearn.preprocessing import LabelEncoder\n",
    "label_encoder = LabelEncoder()\n",
    "\n",
    "\n",
    "# Initialize LabelEncoder for the target variable y\n",
    "label_encoder_y = LabelEncoder()\n",
    "y_encoded = label_encoder_y.fit_transform(y)"
   ]
  }
 ],
 "metadata": {
  "kernelspec": {
   "display_name": "Python 3",
   "language": "python",
   "name": "python3"
  },
  "language_info": {
   "codemirror_mode": {
    "name": "ipython",
    "version": 3
   },
   "file_extension": ".py",
   "mimetype": "text/x-python",
   "name": "python",
   "nbconvert_exporter": "python",
   "pygments_lexer": "ipython3",
   "version": "3.11.1"
  }
 },
 "nbformat": 4,
 "nbformat_minor": 2
}
